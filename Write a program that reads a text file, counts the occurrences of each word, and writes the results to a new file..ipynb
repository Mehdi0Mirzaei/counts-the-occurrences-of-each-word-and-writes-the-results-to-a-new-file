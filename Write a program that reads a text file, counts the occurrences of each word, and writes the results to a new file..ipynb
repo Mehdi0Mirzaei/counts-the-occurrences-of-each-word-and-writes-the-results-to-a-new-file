{
 "cells": [
  {
   "cell_type": "code",
   "execution_count": 14,
   "id": "e2ef8f57",
   "metadata": {},
   "outputs": [
    {
     "name": "stdout",
     "output_type": "stream",
     "text": [
      "Word counts have been written to word_counts.txt\n"
     ]
    }
   ],
   "source": [
    "import re\n",
    "from collections import Counter\n",
    "\n",
    "def count_words(input_file, output_file):\n",
    "    try:\n",
    "        # Open the input file for reading\n",
    "        with open(input_file, 'r') as file:\n",
    "            # Read the text from the file and tokenize it into words using regular expressions\n",
    "            text = file.read()\n",
    "            words = re.findall(r'\\w+', text.lower())\n",
    "            \n",
    "            # Count the occurrences of each word\n",
    "            word_count = Counter(words)\n",
    "\n",
    "        # Open the output file for writing\n",
    "        with open(output_file, 'w') as file:\n",
    "            # Write the word counts to the output file\n",
    "            for word, count in word_count.items():\n",
    "                file.write(f\"{word}: {count}\\n\")\n",
    "\n",
    "        print(f\"Word counts have been written to {output_file}\")\n",
    "\n",
    "    except FileNotFoundError:\n",
    "        print(f\"Error: The file '{input_file}' was not found.\")\n",
    "\n",
    "if __name__ == \"__main__\":\n",
    "    input_file = \"sample_input.txt\"  # Replace with the path to your input file\n",
    "    output_file = \"word_counts.txt\"  # Replace with the desired output file name\n",
    "    count_words(input_file, output_file)\n"
   ]
  },
  {
   "cell_type": "code",
   "execution_count": 6,
   "id": "b8a50cea",
   "metadata": {},
   "outputs": [
    {
     "name": "stdout",
     "output_type": "stream",
     "text": [
      "mango : 3\n",
      "banana : 3\n",
      "apple : 3\n",
      "pear : 2\n",
      "grapes : 1\n",
      "strawberry : 2\n",
      "kiwi : 1\n"
     ]
    }
   ],
   "source": [
    "text = open(\"sample.txt\", \"r\")\n",
    "d = dict()\n",
    "\n",
    "for line in text:\n",
    "    line = line.strip()\n",
    "    line = line.lower()\n",
    "    words = line.split(\" \")\n",
    "                         \n",
    "    for word in words:\n",
    "        if word in d:\n",
    "            d[word] = d[word] + 1\n",
    "        else:\n",
    "            d[word] = 1\n",
    "for key in list(d.keys()):\n",
    "    print(key, \":\", d[key])"
   ]
  },
  {
   "cell_type": "code",
   "execution_count": 8,
   "id": "da801080",
   "metadata": {},
   "outputs": [
    {
     "name": "stdout",
     "output_type": "stream",
     "text": [
      "Total Number of Words: 4\n",
      "Total Number of Words: 7\n",
      "Total Number of Words: 11\n",
      "Total Number of Words: 15\n"
     ]
    }
   ],
   "source": [
    "count = 0\n",
    "  \n",
    "# Opens a file in read mode\n",
    "f = open(\"sample.txt\", \"r\")\n",
    "  \n",
    "# Gets each line till end\n",
    "for line in f:\n",
    "    # Splits into words\n",
    "    word = line.split(\" \")\n",
    "    # Counts each words\n",
    "    count += len(word)\n",
    "    print(\"Total Number of Words: \" + str(count))\n",
    "f.close()"
   ]
  },
  {
   "cell_type": "code",
   "execution_count": null,
   "id": "2a008bf8",
   "metadata": {},
   "outputs": [],
   "source": []
  }
 ],
 "metadata": {
  "kernelspec": {
   "display_name": "Python 3 (ipykernel)",
   "language": "python",
   "name": "python3"
  },
  "language_info": {
   "codemirror_mode": {
    "name": "ipython",
    "version": 3
   },
   "file_extension": ".py",
   "mimetype": "text/x-python",
   "name": "python",
   "nbconvert_exporter": "python",
   "pygments_lexer": "ipython3",
   "version": "3.9.17"
  }
 },
 "nbformat": 4,
 "nbformat_minor": 5
}
